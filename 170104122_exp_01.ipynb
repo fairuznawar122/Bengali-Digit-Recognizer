{
  "nbformat": 4,
  "nbformat_minor": 0,
  "metadata": {
    "colab": {
      "name": "SoftCom Assignment 2.ipynb",
      "provenance": [],
      "collapsed_sections": []
    },
    "kernelspec": {
      "display_name": "Python 3",
      "name": "python3"
    },
    "language_info": {
      "name": "python"
    }
  },
  "cells": [
    {
      "cell_type": "code",
      "metadata": {
        "id": "I3KNhFxRnanm"
      },
      "source": [
        "import matplotlib.pyplot as plt\n",
        "import numpy as np\n",
        "import pandas as pd\n",
        "from numpy import mean\n",
        "import torch\n",
        "from torchvision import datasets, transforms, models\n",
        "from torch.autograd import Variable"
      ],
      "execution_count": 1,
      "outputs": []
    },
    {
      "cell_type": "code",
      "metadata": {
        "colab": {
          "base_uri": "https://localhost:8080/"
        },
        "id": "cyR0K_y3RjD5",
        "outputId": "62fafa61-6355-4b0a-a9d1-83470e6d355e"
      },
      "source": [
        "from google.colab import drive\n",
        "drive.mount('/content/drive')"
      ],
      "execution_count": 2,
      "outputs": [
        {
          "output_type": "stream",
          "name": "stdout",
          "text": [
            "Mounted at /content/drive\n"
          ]
        }
      ]
    },
    {
      "cell_type": "code",
      "metadata": {
        "id": "iyOgbHJrpH75"
      },
      "source": [
        "filePath='/content/drive/MyDrive/Soft Com Lab/Assignment 2/Dataset A/training-a'\n"
      ],
      "execution_count": 3,
      "outputs": []
    },
    {
      "cell_type": "code",
      "metadata": {
        "colab": {
          "base_uri": "https://localhost:8080/",
          "height": 357
        },
        "id": "BBkhp35PpMjI",
        "outputId": "9de822ef-f1bd-400f-825a-d7a336b70589"
      },
      "source": [
        "datafile = pd.read_csv('/content/drive/MyDrive/Soft Com Lab/Assignment 2/Dataset A/training-a.csv')\n",
        "datafile.columns\n",
        "datafile = datafile.drop(columns=['original filename', 'scanid',\n",
        "       'database name original', 'contributing team', 'database name'])\n",
        "datafile.iloc[:10, 0:]"
      ],
      "execution_count": 4,
      "outputs": [
        {
          "output_type": "execute_result",
          "data": {
            "text/html": [
              "<div>\n",
              "<style scoped>\n",
              "    .dataframe tbody tr th:only-of-type {\n",
              "        vertical-align: middle;\n",
              "    }\n",
              "\n",
              "    .dataframe tbody tr th {\n",
              "        vertical-align: top;\n",
              "    }\n",
              "\n",
              "    .dataframe thead th {\n",
              "        text-align: right;\n",
              "    }\n",
              "</style>\n",
              "<table border=\"1\" class=\"dataframe\">\n",
              "  <thead>\n",
              "    <tr style=\"text-align: right;\">\n",
              "      <th></th>\n",
              "      <th>filename</th>\n",
              "      <th>digit</th>\n",
              "    </tr>\n",
              "  </thead>\n",
              "  <tbody>\n",
              "    <tr>\n",
              "      <th>0</th>\n",
              "      <td>a00000.png</td>\n",
              "      <td>5</td>\n",
              "    </tr>\n",
              "    <tr>\n",
              "      <th>1</th>\n",
              "      <td>a00001.png</td>\n",
              "      <td>3</td>\n",
              "    </tr>\n",
              "    <tr>\n",
              "      <th>2</th>\n",
              "      <td>a00002.png</td>\n",
              "      <td>1</td>\n",
              "    </tr>\n",
              "    <tr>\n",
              "      <th>3</th>\n",
              "      <td>a00003.png</td>\n",
              "      <td>7</td>\n",
              "    </tr>\n",
              "    <tr>\n",
              "      <th>4</th>\n",
              "      <td>a00004.png</td>\n",
              "      <td>0</td>\n",
              "    </tr>\n",
              "    <tr>\n",
              "      <th>5</th>\n",
              "      <td>a00005.png</td>\n",
              "      <td>4</td>\n",
              "    </tr>\n",
              "    <tr>\n",
              "      <th>6</th>\n",
              "      <td>a00006.png</td>\n",
              "      <td>3</td>\n",
              "    </tr>\n",
              "    <tr>\n",
              "      <th>7</th>\n",
              "      <td>a00007.png</td>\n",
              "      <td>0</td>\n",
              "    </tr>\n",
              "    <tr>\n",
              "      <th>8</th>\n",
              "      <td>a00008.png</td>\n",
              "      <td>4</td>\n",
              "    </tr>\n",
              "    <tr>\n",
              "      <th>9</th>\n",
              "      <td>a00009.png</td>\n",
              "      <td>9</td>\n",
              "    </tr>\n",
              "  </tbody>\n",
              "</table>\n",
              "</div>"
            ],
            "text/plain": [
              "     filename  digit\n",
              "0  a00000.png      5\n",
              "1  a00001.png      3\n",
              "2  a00002.png      1\n",
              "3  a00003.png      7\n",
              "4  a00004.png      0\n",
              "5  a00005.png      4\n",
              "6  a00006.png      3\n",
              "7  a00007.png      0\n",
              "8  a00008.png      4\n",
              "9  a00009.png      9"
            ]
          },
          "metadata": {},
          "execution_count": 4
        }
      ]
    },
    {
      "cell_type": "code",
      "metadata": {
        "id": "6mpVvneKfiqD"
      },
      "source": [
        "import torch\n",
        "from torch.utils.data import Dataset\n",
        "from PIL import Image\n",
        "\n",
        "class Dataset(Dataset):\n",
        "    def __init__(self, df, root, transform=None):\n",
        "        self.data = df\n",
        "        self.root = root\n",
        "        self.transform = transform\n",
        "        \n",
        "    def __len__(self):\n",
        "        return len(self.data)\n",
        "    \n",
        "    def __getitem__(self, index):\n",
        "        item = self.data.iloc[index]\n",
        "        \n",
        "        path = self.root + \"/\" + item[0]\n",
        "        image = Image.open(path).convert('L')\n",
        "        label = item[1]\n",
        "        \n",
        "        if self.transform is not None:\n",
        "            image = self.transform(image)\n",
        "            \n",
        "        return image, label"
      ],
      "execution_count": 5,
      "outputs": []
    },
    {
      "cell_type": "code",
      "metadata": {
        "id": "1eVF4nLmhpUs"
      },
      "source": [
        "mean = [0.5,]\n",
        "std = [0.5, ]\n",
        "\n",
        "train_transform = transforms.Compose([\n",
        "    transforms.Resize(128),\n",
        "    transforms.ToTensor(),\n",
        "    transforms.Normalize(mean, std)\n",
        "])\n",
        "\n",
        "test_transform = transforms.Compose([\n",
        "        transforms.Resize(128),\n",
        "        transforms.ToTensor(),\n",
        "        transforms.Normalize(mean, std)\n",
        "])\n",
        "\n",
        "train_data  = Dataset(datafile, filePath, train_transform)\n",
        "test_data = Dataset(datafile, filePath, test_transform)\n",
        "\n"
      ],
      "execution_count": 6,
      "outputs": []
    },
    {
      "cell_type": "code",
      "metadata": {
        "id": "4lrcogKaiiFz"
      },
      "source": [
        "learning_rate = 0.01 \n",
        "batch_size = 20\n",
        "num_iters = 20000\n",
        "input_dim = 128*128\n",
        "num_hidden = 200 \n",
        "output_dim = 10\n",
        "num_epochs = num_iters / (len(train_data) / batch_size)\n",
        "num_epochs = int(num_epochs)\n",
        "\n",
        "# Device\n",
        "device = torch.device(\"cuda:0\" if torch.cuda.is_available() else \"cpu\")\n",
        "trainloader = torch.utils.data.DataLoader(dataset=train_data, \n",
        "                                           batch_size=batch_size, \n",
        "                                           shuffle=True) \n",
        "\n",
        "testloader = torch.utils.data.DataLoader(dataset=test_data, \n",
        "                                          batch_size=batch_size, \n",
        "                                          shuffle=False)  "
      ],
      "execution_count": 7,
      "outputs": []
    },
    {
      "cell_type": "code",
      "metadata": {
        "colab": {
          "base_uri": "https://localhost:8080/"
        },
        "id": "yBzulp73nCpe",
        "outputId": "d9ea52c9-0c62-4ca8-96c1-86ee2c4b3791"
      },
      "source": [
        ""
      ],
      "execution_count": 16,
      "outputs": [
        {
          "output_type": "execute_result",
          "data": {
            "text/plain": [
              "<torch.utils.data.dataloader.DataLoader at 0x7f683050c750>"
            ]
          },
          "metadata": {},
          "execution_count": 16
        }
      ]
    },
    {
      "cell_type": "code",
      "metadata": {
        "id": "BXlbQ3unusiQ"
      },
      "source": [
        "torch.manual_seed(0)\n",
        "torch.backends.cudnn.deterministic = True\n",
        "torch.backends.cudnn.benchmark = False\n",
        "\n",
        "np.random.seed(0)\n",
        "from torchvision import datasets, transforms\n",
        "import torch.nn.functional as F\n",
        "from torch import nn\n"
      ],
      "execution_count": 8,
      "outputs": []
    },
    {
      "cell_type": "code",
      "metadata": {
        "colab": {
          "base_uri": "https://localhost:8080/"
        },
        "id": "v0XCFlOJj1fL",
        "outputId": "6c78dcc3-fa62-4eac-debd-cee9d7da0e26"
      },
      "source": [
        "class NeuralNetwork(nn.Module):\n",
        "    def __init__(self):\n",
        "        super().__init__()\n",
        "        self.l1 = nn.Linear(16384, 8192)\n",
        "        self.l2 = nn.Linear(8192, 4096)\n",
        "        self.l3 = nn.Linear(4096, 2048)\n",
        "        self.l4 = nn.Linear(2048, 1024)\n",
        "        self.l5 = nn.Linear(1024, 512)\n",
        "        self.l6 = nn.Linear(512, 256)\n",
        "        self.l7 = nn.Linear(256, 10)\n",
        " \n",
        "    def forward(self, x):\n",
        "        ##\n",
        "        x = F.relu(self.l1(x))\n",
        "        x = F.relu(self.l2(x))\n",
        "        x = F.relu(self.l3(x))\n",
        "        x = F.relu(self.l4(x))\n",
        "        x = F.relu(self.l5(x))\n",
        "        x = F.relu(self.l6(x))\n",
        "        x = self.l7(x)\n",
        "        x = F.log_softmax(x, dim=1)\n",
        "        return x\n",
        "\n",
        "model = NeuralNetwork()\n",
        "model.to(device)"
      ],
      "execution_count": 9,
      "outputs": [
        {
          "output_type": "execute_result",
          "data": {
            "text/plain": [
              "NeuralNetwork(\n",
              "  (l1): Linear(in_features=16384, out_features=8192, bias=True)\n",
              "  (l2): Linear(in_features=8192, out_features=4096, bias=True)\n",
              "  (l3): Linear(in_features=4096, out_features=2048, bias=True)\n",
              "  (l4): Linear(in_features=2048, out_features=1024, bias=True)\n",
              "  (l5): Linear(in_features=1024, out_features=512, bias=True)\n",
              "  (l6): Linear(in_features=512, out_features=256, bias=True)\n",
              "  (l7): Linear(in_features=256, out_features=10, bias=True)\n",
              ")"
            ]
          },
          "metadata": {},
          "execution_count": 9
        }
      ]
    },
    {
      "cell_type": "code",
      "metadata": {
        "colab": {
          "base_uri": "https://localhost:8080/"
        },
        "id": "teHuXZ2_qYAN",
        "outputId": "5dbdef94-7f97-4cbe-9519-b4a25bfa491f"
      },
      "source": [
        "from torch import optim\n",
        "\n",
        "criterion = nn.CrossEntropyLoss()\n",
        "optimizer = torch.optim.SGD(model.parameters(), lr=learning_rate)\n",
        "Loss = []\n",
        "iterationNo=0;\n",
        "iterations= []\n",
        "for i in range(num_epochs):\n",
        "    cum_loss = 0\n",
        "\n",
        "    for images, labels in trainloader:\n",
        "        ##\n",
        "        images = images.view(-1, 128*128).to(device)\n",
        "        labels = labels.to(device)\n",
        "        optimizer.zero_grad()\n",
        "        output = model(images)\n",
        "        loss = criterion(output, labels)\n",
        "        loss.backward()\n",
        "        optimizer.step()\n",
        "        iterationNo = iterationNo + 1\n",
        "        cum_loss += loss.item()\n",
        "        if(iterationNo%100==0):\n",
        "          Loss.append(cum_loss/len(trainloader))\n",
        "          iterations.append(iterationNo)\n",
        "          print(f\"Training loss: {cum_loss/len(trainloader)}\",\"Iteration \", iterationNo)\n",
        "          \n",
        "    "
      ],
      "execution_count": 10,
      "outputs": [
        {
          "output_type": "stream",
          "name": "stdout",
          "text": [
            "Training loss: 0.2335678696874189 Iteration  100\n",
            "Training loss: 0.46721815119892296 Iteration  200\n",
            "Training loss: 0.7006873646807719 Iteration  300\n",
            "Training loss: 0.9340947119265977 Iteration  400\n",
            "Training loss: 1.1675291404762809 Iteration  500\n",
            "Training loss: 1.4010912114659864 Iteration  600\n",
            "Training loss: 1.6346677324109338 Iteration  700\n",
            "Training loss: 1.8681415271081983 Iteration  800\n",
            "Training loss: 2.101711154709481 Iteration  900\n",
            "Training loss: 0.03268397047843701 Iteration  1000\n",
            "Training loss: 0.2661557966506989 Iteration  1100\n",
            "Training loss: 0.4995833262952298 Iteration  1200\n",
            "Training loss: 0.7330010616755147 Iteration  1300\n",
            "Training loss: 0.9664080616910365 Iteration  1400\n",
            "Training loss: 1.1998344321279932 Iteration  1500\n",
            "Training loss: 1.4332275112550592 Iteration  1600\n",
            "Training loss: 1.6666221239020327 Iteration  1700\n",
            "Training loss: 1.9000132272499812 Iteration  1800\n",
            "Training loss: 2.1333824495272995 Iteration  1900\n",
            "Training loss: 0.06533078707255892 Iteration  2000\n",
            "Training loss: 0.29864098237445824 Iteration  2100\n",
            "Training loss: 0.5319882527326232 Iteration  2200\n",
            "Training loss: 0.7652891753411438 Iteration  2300\n",
            "Training loss: 0.9986089143985184 Iteration  2400\n",
            "Training loss: 1.2318997134059728 Iteration  2500\n",
            "Training loss: 1.4651513692089801 Iteration  2600\n",
            "Training loss: 1.6983708324587128 Iteration  2700\n",
            "Training loss: 1.9315834335574755 Iteration  2800\n",
            "Training loss: 2.164768771757702 Iteration  2900\n",
            "Training loss: 0.09787956792974568 Iteration  3000\n",
            "Training loss: 0.3308813361560597 Iteration  3100\n",
            "Training loss: 0.564068786029158 Iteration  3200\n",
            "Training loss: 0.7971399050455307 Iteration  3300\n",
            "Training loss: 1.0300910842829738 Iteration  3400\n",
            "Training loss: 1.2629882082736033 Iteration  3500\n",
            "Training loss: 1.4958625862612926 Iteration  3600\n",
            "Training loss: 1.7286851439949948 Iteration  3700\n",
            "Training loss: 1.96162691367809 Iteration  3800\n",
            "Training loss: 2.1944866908249456 Iteration  3900\n",
            "Training loss: 0.13027824736511973 Iteration  4000\n",
            "Training loss: 0.36298993006197483 Iteration  4100\n",
            "Training loss: 0.5955181612687952 Iteration  4200\n",
            "Training loss: 0.8280819405406774 Iteration  4300\n",
            "Training loss: 1.0604886631453012 Iteration  4400\n",
            "Training loss: 1.2927166900576732 Iteration  4500\n",
            "Training loss: 1.524805097260775 Iteration  4600\n",
            "Training loss: 1.756819467757343 Iteration  4700\n",
            "Training loss: 1.9886288807309906 Iteration  4800\n",
            "Training loss: 2.22031075814191 Iteration  4900\n",
            "Training loss: 0.16185181522949715 Iteration  5000\n",
            "Training loss: 0.393055300683569 Iteration  5100\n",
            "Training loss: 0.623519570058548 Iteration  5200\n",
            "Training loss: 0.8533829025032554 Iteration  5300\n",
            "Training loss: 1.0830643455106879 Iteration  5400\n",
            "Training loss: 1.3120203903190504 Iteration  5500\n",
            "Training loss: 1.5397487114699326 Iteration  5600\n",
            "Training loss: 1.767582488350162 Iteration  5700\n",
            "Training loss: 1.99336190107628 Iteration  5800\n",
            "Training loss: 2.219980169019641 Iteration  5900\n",
            "Training loss: 0.18892231214844432 Iteration  6000\n",
            "Training loss: 0.41246409541936724 Iteration  6100\n",
            "Training loss: 0.634884582329957 Iteration  6200\n",
            "Training loss: 0.8590089312431537 Iteration  6300\n",
            "Training loss: 1.080289553314387 Iteration  6400\n",
            "Training loss: 1.2980423024411618 Iteration  6500\n",
            "Training loss: 1.5163445490852572 Iteration  6600\n",
            "Training loss: 1.7322614191753627 Iteration  6700\n",
            "Training loss: 1.9495886110872573 Iteration  6800\n",
            "Training loss: 2.1647930564793323 Iteration  6900\n",
            "Training loss: 0.2108834754622732 Iteration  7000\n",
            "Training loss: 0.4222276852774088 Iteration  7100\n",
            "Training loss: 0.6372721076737069 Iteration  7200\n",
            "Training loss: 0.8484991661917124 Iteration  7300\n",
            "Training loss: 1.0585641987908927 Iteration  7400\n",
            "Training loss: 1.2688108608882278 Iteration  7500\n",
            "Training loss: 1.4777702662572416 Iteration  7600\n",
            "Training loss: 1.6868752510745917 Iteration  7700\n",
            "Training loss: 1.8945741878319948 Iteration  7800\n",
            "Training loss: 0.02492852336736528 Iteration  7900\n",
            "Training loss: 0.23001367470313763 Iteration  8000\n",
            "Training loss: 0.43444082824018376 Iteration  8100\n",
            "Training loss: 0.6386932361923898 Iteration  8200\n",
            "Training loss: 0.8393030777180654 Iteration  8300\n",
            "Training loss: 1.041779739740654 Iteration  8400\n",
            "Training loss: 1.244091399542942 Iteration  8500\n",
            "Training loss: 1.4435545283447173 Iteration  8600\n",
            "Training loss: 1.6454477318643799 Iteration  8700\n",
            "Training loss: 1.844028599605599 Iteration  8800\n",
            "Training loss: 0.050192771407701904 Iteration  8900\n",
            "Training loss: 0.24593726810045222 Iteration  9000\n",
            "Training loss: 0.4435591609434472 Iteration  9100\n",
            "Training loss: 0.632830411135304 Iteration  9200\n",
            "Training loss: 0.8273819227973056 Iteration  9300\n",
            "Training loss: 1.020754235994985 Iteration  9400\n",
            "Training loss: 1.2126706583504745 Iteration  9500\n",
            "Training loss: 1.4064640650642812 Iteration  9600\n",
            "Training loss: 1.5960078162063691 Iteration  9700\n",
            "Training loss: 1.788744194633337 Iteration  9800\n",
            "Training loss: 0.07322474703585642 Iteration  9900\n",
            "Training loss: 0.26196979763058087 Iteration  10000\n",
            "Training loss: 0.4498056233775543 Iteration  10100\n",
            "Training loss: 0.6361838130631746 Iteration  10200\n",
            "Training loss: 0.821507864501365 Iteration  10300\n",
            "Training loss: 1.0044914432036225 Iteration  10400\n",
            "Training loss: 1.1896589698220847 Iteration  10500\n",
            "Training loss: 1.3783486683760404 Iteration  10600\n",
            "Training loss: 1.5610912253600346 Iteration  10700\n",
            "Training loss: 1.7458526957591214 Iteration  10800\n",
            "Training loss: 0.09809954993381462 Iteration  10900\n",
            "Training loss: 0.27881024128041454 Iteration  11000\n",
            "Training loss: 0.4606294323658121 Iteration  11100\n",
            "Training loss: 0.6393100554029066 Iteration  11200\n",
            "Training loss: 0.8207425881350984 Iteration  11300\n",
            "Training loss: 0.9995351066212141 Iteration  11400\n",
            "Training loss: 1.1789737097148238 Iteration  11500\n",
            "Training loss: 1.3554443517514707 Iteration  11600\n",
            "Training loss: 1.5346647554188664 Iteration  11700\n",
            "Training loss: 1.7116755458694441 Iteration  11800\n",
            "Training loss: 0.119945541840296 Iteration  11900\n",
            "Training loss: 0.2887080385525376 Iteration  12000\n",
            "Training loss: 0.4633842190429115 Iteration  12100\n",
            "Training loss: 0.6360743222323683 Iteration  12200\n",
            "Training loss: 0.8089563569722746 Iteration  12300\n",
            "Training loss: 0.9784390798205053 Iteration  12400\n",
            "Training loss: 1.147377957195104 Iteration  12500\n",
            "Training loss: 1.3134404186302944 Iteration  12600\n",
            "Training loss: 1.4791405094564565 Iteration  12700\n",
            "Training loss: 1.6451488009089146 Iteration  12800\n",
            "Training loss: 0.13783823899758516 Iteration  12900\n",
            "Training loss: 0.30567554104884304 Iteration  13000\n",
            "Training loss: 0.4688807900005132 Iteration  13100\n",
            "Training loss: 0.6374158593268714 Iteration  13200\n",
            "Training loss: 0.7988608642717404 Iteration  13300\n",
            "Training loss: 0.9618118023292046 Iteration  13400\n",
            "Training loss: 1.1235710383066058 Iteration  13500\n",
            "Training loss: 1.2841345543914586 Iteration  13600\n",
            "Training loss: 1.4420739807052496 Iteration  13700\n",
            "Training loss: 1.5977849130940003 Iteration  13800\n",
            "Training loss: 0.15091093159592417 Iteration  13900\n",
            "Training loss: 0.30661196616793746 Iteration  14000\n",
            "Training loss: 0.46214405336921643 Iteration  14100\n",
            "Training loss: 0.6188817163268161 Iteration  14200\n",
            "Training loss: 0.7705024619856906 Iteration  14300\n",
            "Training loss: 0.9255960925839252 Iteration  14400\n",
            "Training loss: 1.075493857899254 Iteration  14500\n",
            "Training loss: 1.2337466312107643 Iteration  14600\n",
            "Training loss: 1.3899629802781235 Iteration  14700\n",
            "Training loss: 0.015558150549689365 Iteration  14800\n",
            "Training loss: 0.16464664643483037 Iteration  14900\n",
            "Training loss: 0.31255515521244875 Iteration  15000\n",
            "Training loss: 0.4605979507158059 Iteration  15100\n",
            "Training loss: 0.6112413411812656 Iteration  15200\n",
            "Training loss: 0.7548255577653223 Iteration  15300\n",
            "Training loss: 0.9030512304746113 Iteration  15400\n",
            "Training loss: 1.0458549678809261 Iteration  15500\n",
            "Training loss: 1.1871180892836974 Iteration  15600\n",
            "Training loss: 1.330260276069022 Iteration  15700\n",
            "Training loss: 0.034491451408026425 Iteration  15800\n",
            "Training loss: 0.1823855073892079 Iteration  15900\n",
            "Training loss: 0.3260088434204852 Iteration  16000\n",
            "Training loss: 0.4654664868152649 Iteration  16100\n",
            "Training loss: 0.6007030495644583 Iteration  16200\n",
            "Training loss: 0.7349446975677056 Iteration  16300\n",
            "Training loss: 0.869501324381838 Iteration  16400\n",
            "Training loss: 1.0093129327403605 Iteration  16500\n",
            "Training loss: 1.1493249395314384 Iteration  16600\n",
            "Training loss: 1.2837033376974218 Iteration  16700\n",
            "Training loss: 0.0561764387160721 Iteration  16800\n",
            "Training loss: 0.1853616559843988 Iteration  16900\n",
            "Training loss: 0.31372626884472055 Iteration  17000\n",
            "Training loss: 0.4490734067940083 Iteration  17100\n",
            "Training loss: 0.5862775397832689 Iteration  17200\n",
            "Training loss: 0.7221801626150313 Iteration  17300\n",
            "Training loss: 0.8477309019159351 Iteration  17400\n",
            "Training loss: 0.9797139746905824 Iteration  17500\n",
            "Training loss: 1.1199501680916752 Iteration  17600\n",
            "Training loss: 1.2443323154115773 Iteration  17700\n",
            "Training loss: 0.06970530984126047 Iteration  17800\n",
            "Training loss: 0.19303058580501084 Iteration  17900\n",
            "Training loss: 0.3212523762642975 Iteration  18000\n",
            "Training loss: 0.45032594738335446 Iteration  18100\n",
            "Training loss: 0.5752585199614325 Iteration  18200\n",
            "Training loss: 0.6991544073300235 Iteration  18300\n",
            "Training loss: 0.8255075750075296 Iteration  18400\n",
            "Training loss: 0.9548015491111284 Iteration  18500\n",
            "Training loss: 1.0762088936555216 Iteration  18600\n",
            "Training loss: 1.2003294959150512 Iteration  18700\n",
            "Training loss: 0.08325685261471034 Iteration  18800\n",
            "Training loss: 0.20685225761444526 Iteration  18900\n",
            "Training loss: 0.33154229653534495 Iteration  19000\n",
            "Training loss: 0.45481907290691775 Iteration  19100\n",
            "Training loss: 0.5757127623347675 Iteration  19200\n",
            "Training loss: 0.6828839989571736 Iteration  19300\n",
            "Training loss: 0.8020782501230859 Iteration  19400\n",
            "Training loss: 0.9133929622342573 Iteration  19500\n",
            "Training loss: 1.0291148993596586 Iteration  19600\n",
            "Training loss: 1.1522596833309344 Iteration  19700\n"
          ]
        }
      ]
    },
    {
      "cell_type": "code",
      "metadata": {
        "id": "TJB6X21SRN3Y",
        "colab": {
          "base_uri": "https://localhost:8080/",
          "height": 513
        },
        "outputId": "1221b0b2-e13d-49f7-ab17-5893e7809690"
      },
      "source": [
        "import matplotlib.pyplot as plt\n",
        "\n",
        "plt.rcParams[\"figure.figsize\"] = (12, 8)\n",
        "x= np.array(iterations)\n",
        "y= np.array(Loss)\n",
        "plt.plot(x, y)\n",
        "plt.title(\"Loss Vs Iteration\")\n",
        "plt.xlabel(\"Loss\")\n",
        "plt.ylabel(\"Iterations\")\n",
        "from google.colab import files\n",
        "plt.savefig(\"Loss Vs Iteration.png\",dpi=199)\n",
        "\n",
        "files.download(\"Loss Vs Iteration.png\") \n",
        "plt.show()\n"
      ],
      "execution_count": 12,
      "outputs": [
        {
          "output_type": "display_data",
          "data": {
            "application/javascript": [
              "\n",
              "    async function download(id, filename, size) {\n",
              "      if (!google.colab.kernel.accessAllowed) {\n",
              "        return;\n",
              "      }\n",
              "      const div = document.createElement('div');\n",
              "      const label = document.createElement('label');\n",
              "      label.textContent = `Downloading \"${filename}\": `;\n",
              "      div.appendChild(label);\n",
              "      const progress = document.createElement('progress');\n",
              "      progress.max = size;\n",
              "      div.appendChild(progress);\n",
              "      document.body.appendChild(div);\n",
              "\n",
              "      const buffers = [];\n",
              "      let downloaded = 0;\n",
              "\n",
              "      const channel = await google.colab.kernel.comms.open(id);\n",
              "      // Send a message to notify the kernel that we're ready.\n",
              "      channel.send({})\n",
              "\n",
              "      for await (const message of channel.messages) {\n",
              "        // Send a message to notify the kernel that we're ready.\n",
              "        channel.send({})\n",
              "        if (message.buffers) {\n",
              "          for (const buffer of message.buffers) {\n",
              "            buffers.push(buffer);\n",
              "            downloaded += buffer.byteLength;\n",
              "            progress.value = downloaded;\n",
              "          }\n",
              "        }\n",
              "      }\n",
              "      const blob = new Blob(buffers, {type: 'application/binary'});\n",
              "      const a = document.createElement('a');\n",
              "      a.href = window.URL.createObjectURL(blob);\n",
              "      a.download = filename;\n",
              "      div.appendChild(a);\n",
              "      a.click();\n",
              "      div.remove();\n",
              "    }\n",
              "  "
            ],
            "text/plain": [
              "<IPython.core.display.Javascript object>"
            ]
          },
          "metadata": {}
        },
        {
          "output_type": "display_data",
          "data": {
            "application/javascript": [
              "download(\"download_9071f46e-e5e7-4e2f-a816-5d6fc0f553bb\", \"Loss Vs Iteration.png\", 225861)"
            ],
            "text/plain": [
              "<IPython.core.display.Javascript object>"
            ]
          },
          "metadata": {}
        },
        {
          "output_type": "display_data",
          "data": {
            "image/png": "[encoded data removed]",
            "text/plain": [
              "<Figure size 864x576 with 1 Axes>"
            ]
          },
          "metadata": {
            "needs_background": "light"
          }
        }
      ]
    },
    {
      "cell_type": "code",
      "metadata": {
        "colab": {
          "base_uri": "https://localhost:8080/",
          "height": 479
        },
        "id": "DyIc050imgot",
        "outputId": "dbf521d6-b713-4e60-a589-f959634dee5e"
      },
      "source": [
        "%matplotlib inline\n",
        "import matplotlib.pyplot as plt\n",
        "\n",
        "images, labels = next(iter(testloader))\n",
        "\n",
        "img = images[5]\n",
        "img = img.view(-1, 128*128)\n",
        "lab = labels[5]\n",
        "\n",
        "with torch.no_grad():\n",
        "    CrossEntropyLoss = model(img)\n",
        "ps = torch.exp(CrossEntropyLoss)\n",
        "plt.rcParams[\"figure.figsize\"] = (12, 8)\n",
        "nps = ps.numpy()[0]\n",
        "FMNIST_labels = ['0','1','2','3','4','5','6','7','8','9']\n",
        "plt.xticks(np.arange(10),labels=FMNIST_labels,rotation='vertical')\n",
        "plt.bar(np.arange(10), nps)\n",
        "\n",
        "from google.colab import files\n",
        "plt.savefig(\"Probability.png\",dpi=199)\n",
        "\n",
        "files.download(\"Probability.png\") \n",
        "plt.show()\n"
      ],
      "execution_count": 40,
      "outputs": [
        {
          "output_type": "display_data",
          "data": {
            "application/javascript": [
              "\n",
              "    async function download(id, filename, size) {\n",
              "      if (!google.colab.kernel.accessAllowed) {\n",
              "        return;\n",
              "      }\n",
              "      const div = document.createElement('div');\n",
              "      const label = document.createElement('label');\n",
              "      label.textContent = `Downloading \"${filename}\": `;\n",
              "      div.appendChild(label);\n",
              "      const progress = document.createElement('progress');\n",
              "      progress.max = size;\n",
              "      div.appendChild(progress);\n",
              "      document.body.appendChild(div);\n",
              "\n",
              "      const buffers = [];\n",
              "      let downloaded = 0;\n",
              "\n",
              "      const channel = await google.colab.kernel.comms.open(id);\n",
              "      // Send a message to notify the kernel that we're ready.\n",
              "      channel.send({})\n",
              "\n",
              "      for await (const message of channel.messages) {\n",
              "        // Send a message to notify the kernel that we're ready.\n",
              "        channel.send({})\n",
              "        if (message.buffers) {\n",
              "          for (const buffer of message.buffers) {\n",
              "            buffers.push(buffer);\n",
              "            downloaded += buffer.byteLength;\n",
              "            progress.value = downloaded;\n",
              "          }\n",
              "        }\n",
              "      }\n",
              "      const blob = new Blob(buffers, {type: 'application/binary'});\n",
              "      const a = document.createElement('a');\n",
              "      a.href = window.URL.createObjectURL(blob);\n",
              "      a.download = filename;\n",
              "      div.appendChild(a);\n",
              "      a.click();\n",
              "      div.remove();\n",
              "    }\n",
              "  "
            ],
            "text/plain": [
              "<IPython.core.display.Javascript object>"
            ]
          },
          "metadata": {}
        },
        {
          "output_type": "display_data",
          "data": {
            "application/javascript": [
              "download(\"download_cc402b9a-96cf-4367-a271-412c895ad09b\", \"Probability.png\", 31999)"
            ],
            "text/plain": [
              "<IPython.core.display.Javascript object>"
            ]
          },
          "metadata": {}
        },
        {
          "output_type": "display_data",
          "data": {
            "image/png": "[encoded data removed]",
            "text/plain": [
              "<Figure size 864x576 with 1 Axes>"
            ]
          },
          "metadata": {
            "needs_background": "light"
          }
        }
      ]
    },
    {
      "cell_type": "code",
      "metadata": {
        "colab": {
          "base_uri": "https://localhost:8080/",
          "height": 502
        },
        "id": "d-NaWAMWoNrt",
        "outputId": "6dbcc016-182f-4d20-9d0e-0f36346715fb"
      },
      "source": [
        "plt.rcParams[\"figure.figsize\"] = (12, 8)\n",
        "\n",
        "def denormalize(tensor):\n",
        "  tensor = tensor*0.5 + 0.5\n",
        "  return tensor\n",
        "  \n",
        "img = img.view(128,-1)\n",
        "img = denormalize(img)\n",
        "from google.colab import files\n",
        "plt.savefig(\"Actual.png\",dpi=199)\n",
        "\n",
        "files.download(\"Actual.png\") \n",
        "plt.imshow(img,cmap='gray')"
      ],
      "execution_count": 42,
      "outputs": [
        {
          "output_type": "display_data",
          "data": {
            "application/javascript": [
              "\n",
              "    async function download(id, filename, size) {\n",
              "      if (!google.colab.kernel.accessAllowed) {\n",
              "        return;\n",
              "      }\n",
              "      const div = document.createElement('div');\n",
              "      const label = document.createElement('label');\n",
              "      label.textContent = `Downloading \"${filename}\": `;\n",
              "      div.appendChild(label);\n",
              "      const progress = document.createElement('progress');\n",
              "      progress.max = size;\n",
              "      div.appendChild(progress);\n",
              "      document.body.appendChild(div);\n",
              "\n",
              "      const buffers = [];\n",
              "      let downloaded = 0;\n",
              "\n",
              "      const channel = await google.colab.kernel.comms.open(id);\n",
              "      // Send a message to notify the kernel that we're ready.\n",
              "      channel.send({})\n",
              "\n",
              "      for await (const message of channel.messages) {\n",
              "        // Send a message to notify the kernel that we're ready.\n",
              "        channel.send({})\n",
              "        if (message.buffers) {\n",
              "          for (const buffer of message.buffers) {\n",
              "            buffers.push(buffer);\n",
              "            downloaded += buffer.byteLength;\n",
              "            progress.value = downloaded;\n",
              "          }\n",
              "        }\n",
              "      }\n",
              "      const blob = new Blob(buffers, {type: 'application/binary'});\n",
              "      const a = document.createElement('a');\n",
              "      a.href = window.URL.createObjectURL(blob);\n",
              "      a.download = filename;\n",
              "      div.appendChild(a);\n",
              "      a.click();\n",
              "      div.remove();\n",
              "    }\n",
              "  "
            ],
            "text/plain": [
              "<IPython.core.display.Javascript object>"
            ]
          },
          "metadata": {}
        },
        {
          "output_type": "display_data",
          "data": {
            "application/javascript": [
              "download(\"download_a214b7b5-49d7-4f48-ac34-82d97afe3cae\", \"Actual.png\", 18028)"
            ],
            "text/plain": [
              "<IPython.core.display.Javascript object>"
            ]
          },
          "metadata": {}
        },
        {
          "output_type": "execute_result",
          "data": {
            "text/plain": [
              "<matplotlib.image.AxesImage at 0x7f682de82090>"
            ]
          },
          "metadata": {},
          "execution_count": 42
        },
        {
          "output_type": "display_data",
          "data": {
            "image/png": "[encoded data removed]",
            "text/plain": [
              "<Figure size 864x576 with 1 Axes>"
            ]
          },
          "metadata": {
            "needs_background": "light"
          }
        }
      ]
    },
    {
      "cell_type": "code",
      "metadata": {
        "colab": {
          "base_uri": "https://localhost:8080/"
        },
        "id": "bSLi8UcAobG0",
        "outputId": "4602c0d9-9704-4aa1-de0b-e53222bffc46"
      },
      "source": [
        "correct =0\n",
        "for images, labels in testloader:\n",
        "  images = images.view(-1, 128*128).to(device)\n",
        "  outputs = model(images)\n",
        "  _, predicted = torch.max(outputs, 1)\n",
        "  total += labels.size(0)\n",
        "  \n",
        "  # Total correct predictions\n",
        "  if torch.cuda.is_available():\n",
        "      correct += (predicted.cpu() == labels.cpu()).sum() \n",
        "  else:\n",
        "      correct += (predicted == labels).sum()\n",
        " \n",
        "accuracy = 100 * correct.item() / total\n",
        "print(\"Accuracy : \" , f'{accuracy:.2f}',\"%\")"
      ],
      "execution_count": 54,
      "outputs": [
        {
          "output_type": "stream",
          "name": "stdout",
          "text": [
            "Accuracy :  56.28 %\n"
          ]
        }
      ]
    }
  ]
}